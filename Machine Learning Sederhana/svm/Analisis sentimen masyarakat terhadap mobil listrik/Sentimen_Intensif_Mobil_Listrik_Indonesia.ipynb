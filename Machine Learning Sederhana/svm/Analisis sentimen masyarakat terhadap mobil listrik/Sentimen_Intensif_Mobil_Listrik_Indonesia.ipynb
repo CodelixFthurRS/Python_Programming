{
  "nbformat": 4,
  "nbformat_minor": 0,
  "metadata": {
    "colab": {
      "provenance": []
    },
    "kernelspec": {
      "name": "python3",
      "display_name": "Python 3"
    },
    "language_info": {
      "name": "python"
    }
  },
  "cells": [
    {
      "cell_type": "markdown",
      "source": [
        "## **Langkah 1: Memuat Data Sentimen Intensif Mobil Listrik Indonesia**\n",
        "Data ini merupakan komentar-komnetar masyarakat terkait pemeberlakuan intensif mobil listrik di Indonesia. Komentar-komentar yang digunakan merupakan komentar yang diambil dari berbagai video yang membahasa tentang \"Pemeberlakuan Intensif Mobil Listrik\" pada platform Youtube. Data ini saya ambil melalui situs Kaggle: https://www.kaggle.com/datasets/billycemerson/analisis-sentimen-terkait-intensif-mobil-listrik"
      ],
      "metadata": {
        "id": "uQu95xtREyHE"
      }
    },
    {
      "cell_type": "code",
      "source": [
        "import pandas as pd\n",
        "import matplotlib.pyplot as plt\n",
        "import re\n",
        "import nltk\n",
        "from nltk.tokenize import word_tokenize\n",
        "from sklearn.feature_extraction.text import TfidfVectorizer\n",
        "from sklearn.model_selection import train_test_split\n",
        "from sklearn.svm import SVC\n",
        "from sklearn.metrics import accuracy_score\n",
        "from sklearn.metrics import classification_report\n",
        "\n",
        "# Membaca data CSV\n",
        "data = pd.read_csv(\"mobil_listrik.csv\")\n",
        "\n",
        "# Menampilkan beberapa baris pertama data\n",
        "data.head()\n"
      ],
      "metadata": {
        "id": "3fLiuyExFSFU",
        "colab": {
          "base_uri": "https://localhost:8080/",
          "height": 206
        },
        "outputId": "6a85803c-c42b-4740-a57f-eb564cc6f662"
      },
      "execution_count": 17,
      "outputs": [
        {
          "output_type": "execute_result",
          "data": {
            "text/plain": [
              "                  id_komentar        nama_akun                    tanggal  \\\n",
              "0  Ugzbll5eyrIy3-gdUUJ4AaABAg          Sqn Ldr  2023-08-06 12:54:49+00:00   \n",
              "1  UgzEDUiV3OTrV943p8p4AaABAg       lushen ace  2023-08-04 12:16:23+00:00   \n",
              "2  UgwqJqu6JMF4EH2CsVV4AaABAg  Fatih Al-Ayyubi  2023-08-04 10:17:57+00:00   \n",
              "3  UgyYicCMR1rKwuOj2Y14AaABAg        yp office  2023-08-04 08:29:54+00:00   \n",
              "4  UgxKAcLuAwZOQK6es-x4AaABAg    Lembur Kuring  2023-08-04 07:55:37+00:00   \n",
              "\n",
              "                                       text_cleaning sentimen  \n",
              "0  saran sih bikin   harga ionic sama kayak brio ...  positif  \n",
              "1  problem subsidi kualitas diturunin harga dinai...  negatif  \n",
              "2  baik kualitas kembang dulu baik kualitas motor...  positif  \n",
              "3       model jelek kwalitas buruk harga mahal croot  negatif  \n",
              "4  syarat   ngaco woy anak muda   blom punya ruma...  negatif  "
            ],
            "text/html": [
              "\n",
              "  <div id=\"df-bc2828f9-cde9-49b0-8846-ebd974dceeee\" class=\"colab-df-container\">\n",
              "    <div>\n",
              "<style scoped>\n",
              "    .dataframe tbody tr th:only-of-type {\n",
              "        vertical-align: middle;\n",
              "    }\n",
              "\n",
              "    .dataframe tbody tr th {\n",
              "        vertical-align: top;\n",
              "    }\n",
              "\n",
              "    .dataframe thead th {\n",
              "        text-align: right;\n",
              "    }\n",
              "</style>\n",
              "<table border=\"1\" class=\"dataframe\">\n",
              "  <thead>\n",
              "    <tr style=\"text-align: right;\">\n",
              "      <th></th>\n",
              "      <th>id_komentar</th>\n",
              "      <th>nama_akun</th>\n",
              "      <th>tanggal</th>\n",
              "      <th>text_cleaning</th>\n",
              "      <th>sentimen</th>\n",
              "    </tr>\n",
              "  </thead>\n",
              "  <tbody>\n",
              "    <tr>\n",
              "      <th>0</th>\n",
              "      <td>Ugzbll5eyrIy3-gdUUJ4AaABAg</td>\n",
              "      <td>Sqn Ldr</td>\n",
              "      <td>2023-08-06 12:54:49+00:00</td>\n",
              "      <td>saran sih bikin   harga ionic sama kayak brio ...</td>\n",
              "      <td>positif</td>\n",
              "    </tr>\n",
              "    <tr>\n",
              "      <th>1</th>\n",
              "      <td>UgzEDUiV3OTrV943p8p4AaABAg</td>\n",
              "      <td>lushen ace</td>\n",
              "      <td>2023-08-04 12:16:23+00:00</td>\n",
              "      <td>problem subsidi kualitas diturunin harga dinai...</td>\n",
              "      <td>negatif</td>\n",
              "    </tr>\n",
              "    <tr>\n",
              "      <th>2</th>\n",
              "      <td>UgwqJqu6JMF4EH2CsVV4AaABAg</td>\n",
              "      <td>Fatih Al-Ayyubi</td>\n",
              "      <td>2023-08-04 10:17:57+00:00</td>\n",
              "      <td>baik kualitas kembang dulu baik kualitas motor...</td>\n",
              "      <td>positif</td>\n",
              "    </tr>\n",
              "    <tr>\n",
              "      <th>3</th>\n",
              "      <td>UgyYicCMR1rKwuOj2Y14AaABAg</td>\n",
              "      <td>yp office</td>\n",
              "      <td>2023-08-04 08:29:54+00:00</td>\n",
              "      <td>model jelek kwalitas buruk harga mahal croot</td>\n",
              "      <td>negatif</td>\n",
              "    </tr>\n",
              "    <tr>\n",
              "      <th>4</th>\n",
              "      <td>UgxKAcLuAwZOQK6es-x4AaABAg</td>\n",
              "      <td>Lembur Kuring</td>\n",
              "      <td>2023-08-04 07:55:37+00:00</td>\n",
              "      <td>syarat   ngaco woy anak muda   blom punya ruma...</td>\n",
              "      <td>negatif</td>\n",
              "    </tr>\n",
              "  </tbody>\n",
              "</table>\n",
              "</div>\n",
              "    <div class=\"colab-df-buttons\">\n",
              "\n",
              "  <div class=\"colab-df-container\">\n",
              "    <button class=\"colab-df-convert\" onclick=\"convertToInteractive('df-bc2828f9-cde9-49b0-8846-ebd974dceeee')\"\n",
              "            title=\"Convert this dataframe to an interactive table.\"\n",
              "            style=\"display:none;\">\n",
              "\n",
              "  <svg xmlns=\"http://www.w3.org/2000/svg\" height=\"24px\" viewBox=\"0 -960 960 960\">\n",
              "    <path d=\"M120-120v-720h720v720H120Zm60-500h600v-160H180v160Zm220 220h160v-160H400v160Zm0 220h160v-160H400v160ZM180-400h160v-160H180v160Zm440 0h160v-160H620v160ZM180-180h160v-160H180v160Zm440 0h160v-160H620v160Z\"/>\n",
              "  </svg>\n",
              "    </button>\n",
              "\n",
              "  <style>\n",
              "    .colab-df-container {\n",
              "      display:flex;\n",
              "      gap: 12px;\n",
              "    }\n",
              "\n",
              "    .colab-df-convert {\n",
              "      background-color: #E8F0FE;\n",
              "      border: none;\n",
              "      border-radius: 50%;\n",
              "      cursor: pointer;\n",
              "      display: none;\n",
              "      fill: #1967D2;\n",
              "      height: 32px;\n",
              "      padding: 0 0 0 0;\n",
              "      width: 32px;\n",
              "    }\n",
              "\n",
              "    .colab-df-convert:hover {\n",
              "      background-color: #E2EBFA;\n",
              "      box-shadow: 0px 1px 2px rgba(60, 64, 67, 0.3), 0px 1px 3px 1px rgba(60, 64, 67, 0.15);\n",
              "      fill: #174EA6;\n",
              "    }\n",
              "\n",
              "    .colab-df-buttons div {\n",
              "      margin-bottom: 4px;\n",
              "    }\n",
              "\n",
              "    [theme=dark] .colab-df-convert {\n",
              "      background-color: #3B4455;\n",
              "      fill: #D2E3FC;\n",
              "    }\n",
              "\n",
              "    [theme=dark] .colab-df-convert:hover {\n",
              "      background-color: #434B5C;\n",
              "      box-shadow: 0px 1px 3px 1px rgba(0, 0, 0, 0.15);\n",
              "      filter: drop-shadow(0px 1px 2px rgba(0, 0, 0, 0.3));\n",
              "      fill: #FFFFFF;\n",
              "    }\n",
              "  </style>\n",
              "\n",
              "    <script>\n",
              "      const buttonEl =\n",
              "        document.querySelector('#df-bc2828f9-cde9-49b0-8846-ebd974dceeee button.colab-df-convert');\n",
              "      buttonEl.style.display =\n",
              "        google.colab.kernel.accessAllowed ? 'block' : 'none';\n",
              "\n",
              "      async function convertToInteractive(key) {\n",
              "        const element = document.querySelector('#df-bc2828f9-cde9-49b0-8846-ebd974dceeee');\n",
              "        const dataTable =\n",
              "          await google.colab.kernel.invokeFunction('convertToInteractive',\n",
              "                                                    [key], {});\n",
              "        if (!dataTable) return;\n",
              "\n",
              "        const docLinkHtml = 'Like what you see? Visit the ' +\n",
              "          '<a target=\"_blank\" href=https://colab.research.google.com/notebooks/data_table.ipynb>data table notebook</a>'\n",
              "          + ' to learn more about interactive tables.';\n",
              "        element.innerHTML = '';\n",
              "        dataTable['output_type'] = 'display_data';\n",
              "        await google.colab.output.renderOutput(dataTable, element);\n",
              "        const docLink = document.createElement('div');\n",
              "        docLink.innerHTML = docLinkHtml;\n",
              "        element.appendChild(docLink);\n",
              "      }\n",
              "    </script>\n",
              "  </div>\n",
              "\n",
              "\n",
              "<div id=\"df-8e6ea18d-58cd-4cce-8ef0-e73450e299e0\">\n",
              "  <button class=\"colab-df-quickchart\" onclick=\"quickchart('df-8e6ea18d-58cd-4cce-8ef0-e73450e299e0')\"\n",
              "            title=\"Suggest charts.\"\n",
              "            style=\"display:none;\">\n",
              "\n",
              "<svg xmlns=\"http://www.w3.org/2000/svg\" height=\"24px\"viewBox=\"0 0 24 24\"\n",
              "     width=\"24px\">\n",
              "    <g>\n",
              "        <path d=\"M19 3H5c-1.1 0-2 .9-2 2v14c0 1.1.9 2 2 2h14c1.1 0 2-.9 2-2V5c0-1.1-.9-2-2-2zM9 17H7v-7h2v7zm4 0h-2V7h2v10zm4 0h-2v-4h2v4z\"/>\n",
              "    </g>\n",
              "</svg>\n",
              "  </button>\n",
              "\n",
              "<style>\n",
              "  .colab-df-quickchart {\n",
              "      --bg-color: #E8F0FE;\n",
              "      --fill-color: #1967D2;\n",
              "      --hover-bg-color: #E2EBFA;\n",
              "      --hover-fill-color: #174EA6;\n",
              "      --disabled-fill-color: #AAA;\n",
              "      --disabled-bg-color: #DDD;\n",
              "  }\n",
              "\n",
              "  [theme=dark] .colab-df-quickchart {\n",
              "      --bg-color: #3B4455;\n",
              "      --fill-color: #D2E3FC;\n",
              "      --hover-bg-color: #434B5C;\n",
              "      --hover-fill-color: #FFFFFF;\n",
              "      --disabled-bg-color: #3B4455;\n",
              "      --disabled-fill-color: #666;\n",
              "  }\n",
              "\n",
              "  .colab-df-quickchart {\n",
              "    background-color: var(--bg-color);\n",
              "    border: none;\n",
              "    border-radius: 50%;\n",
              "    cursor: pointer;\n",
              "    display: none;\n",
              "    fill: var(--fill-color);\n",
              "    height: 32px;\n",
              "    padding: 0;\n",
              "    width: 32px;\n",
              "  }\n",
              "\n",
              "  .colab-df-quickchart:hover {\n",
              "    background-color: var(--hover-bg-color);\n",
              "    box-shadow: 0 1px 2px rgba(60, 64, 67, 0.3), 0 1px 3px 1px rgba(60, 64, 67, 0.15);\n",
              "    fill: var(--button-hover-fill-color);\n",
              "  }\n",
              "\n",
              "  .colab-df-quickchart-complete:disabled,\n",
              "  .colab-df-quickchart-complete:disabled:hover {\n",
              "    background-color: var(--disabled-bg-color);\n",
              "    fill: var(--disabled-fill-color);\n",
              "    box-shadow: none;\n",
              "  }\n",
              "\n",
              "  .colab-df-spinner {\n",
              "    border: 2px solid var(--fill-color);\n",
              "    border-color: transparent;\n",
              "    border-bottom-color: var(--fill-color);\n",
              "    animation:\n",
              "      spin 1s steps(1) infinite;\n",
              "  }\n",
              "\n",
              "  @keyframes spin {\n",
              "    0% {\n",
              "      border-color: transparent;\n",
              "      border-bottom-color: var(--fill-color);\n",
              "      border-left-color: var(--fill-color);\n",
              "    }\n",
              "    20% {\n",
              "      border-color: transparent;\n",
              "      border-left-color: var(--fill-color);\n",
              "      border-top-color: var(--fill-color);\n",
              "    }\n",
              "    30% {\n",
              "      border-color: transparent;\n",
              "      border-left-color: var(--fill-color);\n",
              "      border-top-color: var(--fill-color);\n",
              "      border-right-color: var(--fill-color);\n",
              "    }\n",
              "    40% {\n",
              "      border-color: transparent;\n",
              "      border-right-color: var(--fill-color);\n",
              "      border-top-color: var(--fill-color);\n",
              "    }\n",
              "    60% {\n",
              "      border-color: transparent;\n",
              "      border-right-color: var(--fill-color);\n",
              "    }\n",
              "    80% {\n",
              "      border-color: transparent;\n",
              "      border-right-color: var(--fill-color);\n",
              "      border-bottom-color: var(--fill-color);\n",
              "    }\n",
              "    90% {\n",
              "      border-color: transparent;\n",
              "      border-bottom-color: var(--fill-color);\n",
              "    }\n",
              "  }\n",
              "</style>\n",
              "\n",
              "  <script>\n",
              "    async function quickchart(key) {\n",
              "      const quickchartButtonEl =\n",
              "        document.querySelector('#' + key + ' button');\n",
              "      quickchartButtonEl.disabled = true;  // To prevent multiple clicks.\n",
              "      quickchartButtonEl.classList.add('colab-df-spinner');\n",
              "      try {\n",
              "        const charts = await google.colab.kernel.invokeFunction(\n",
              "            'suggestCharts', [key], {});\n",
              "      } catch (error) {\n",
              "        console.error('Error during call to suggestCharts:', error);\n",
              "      }\n",
              "      quickchartButtonEl.classList.remove('colab-df-spinner');\n",
              "      quickchartButtonEl.classList.add('colab-df-quickchart-complete');\n",
              "    }\n",
              "    (() => {\n",
              "      let quickchartButtonEl =\n",
              "        document.querySelector('#df-8e6ea18d-58cd-4cce-8ef0-e73450e299e0 button');\n",
              "      quickchartButtonEl.style.display =\n",
              "        google.colab.kernel.accessAllowed ? 'block' : 'none';\n",
              "    })();\n",
              "  </script>\n",
              "</div>\n",
              "    </div>\n",
              "  </div>\n"
            ]
          },
          "metadata": {},
          "execution_count": 17
        }
      ]
    },
    {
      "cell_type": "markdown",
      "source": [
        "# **Langkah 2: Visualisasi Data**\n",
        "disini saya ingin melihat terlebih dahulu seberapa banyak jarak antara sentimen yang berbeda dalam dataset. Dengan kata lain, saya ingin memahami sejauh mana model kita dapat membedakan antara sentimen positif, negatif, dan netral. Nanti kita lihat metrik evaluasi seperti akurasi, presisi, dan recall, kita dapat mendapatkan pemahaman yang lebih dalam tentang seberapa baik model ini dapat mengenali sentimen yang berbeda."
      ],
      "metadata": {
        "id": "EWlnFuWpGAc2"
      }
    },
    {
      "cell_type": "code",
      "source": [
        "# Visualisasi distribusi sentimen\n",
        "sentimen_counts = data['sentimen'].value_counts()\n",
        "sentimen_counts.plot(kind='bar', figsize=(8, 6))\n",
        "plt.title('Distribusi Sentimen')\n",
        "plt.xlabel('Sentimen')\n",
        "plt.ylabel('Jumlah')\n",
        "plt.show()"
      ],
      "metadata": {
        "colab": {
          "base_uri": "https://localhost:8080/",
          "height": 599
        },
        "id": "zUzFW_LyFkbt",
        "outputId": "a496a624-21e6-4c3f-94f0-5850aa39e062"
      },
      "execution_count": 18,
      "outputs": [
        {
          "output_type": "display_data",
          "data": {
            "text/plain": [
              "<Figure size 800x600 with 1 Axes>"
            ],
            "image/png": "[encoded data removed]"
          },
          "metadata": {}
        }
      ]
    },
    {
      "cell_type": "markdown",
      "source": [
        "# **Langkah 3: Pra-pemrosesan Teks**\n",
        "Pra-pemrosesan teks melibatkan langkah-langkah seperti penghapusan karakter khusus, tokenisasi, dan penghapusan kata stop"
      ],
      "metadata": {
        "id": "whN8J_pBH1XZ"
      }
    },
    {
      "cell_type": "code",
      "source": [
        "nltk.download('punkt')\n",
        "\n",
        "# Menghapus karakter khusus\n",
        "def remove_special_characters(text):\n",
        "    text = re.sub(r'[^A-Za-z0-9\\s]', '', text)\n",
        "    return text\n",
        "\n",
        "# Mengonversi teks menjadi string jika belum\n",
        "data['text_cleaning'] = data['text_cleaning'].apply(lambda x: str(x))\n",
        "\n",
        "# Tokenisasi\n",
        "data['text_cleaning'] = data['text_cleaning'].apply(lambda x: word_tokenize(x) if isinstance(x, str) else [])\n",
        "\n",
        "# Menampilkan beberapa baris pertama data setelah tokenisasi\n",
        "print(data['text_cleaning'].head())"
      ],
      "metadata": {
        "id": "i8qttWkTF2ub",
        "colab": {
          "base_uri": "https://localhost:8080/"
        },
        "outputId": "0f3ab32c-5fc1-44d0-c771-139b7c20ae8a"
      },
      "execution_count": 20,
      "outputs": [
        {
          "output_type": "stream",
          "name": "stdout",
          "text": [
            "0    [saran, sih, bikin, harga, ionic, sama, kayak,...\n",
            "1    [problem, subsidi, kualitas, diturunin, harga,...\n",
            "2    [baik, kualitas, kembang, dulu, baik, kualitas...\n",
            "3    [model, jelek, kwalitas, buruk, harga, mahal, ...\n",
            "4    [syarat, ngaco, woy, anak, muda, blom, punya, ...\n",
            "Name: text_cleaning, dtype: object\n"
          ]
        },
        {
          "output_type": "stream",
          "name": "stderr",
          "text": [
            "[nltk_data] Downloading package punkt to /root/nltk_data...\n",
            "[nltk_data]   Package punkt is already up-to-date!\n"
          ]
        }
      ]
    },
    {
      "cell_type": "markdown",
      "source": [
        "# **Langkah 4: Ekstraksi Fitur**\n",
        "menggunakan metode TF-IDF"
      ],
      "metadata": {
        "id": "he4U9JrDH2zD"
      }
    },
    {
      "cell_type": "code",
      "source": [
        "tfidf_vectorizer = TfidfVectorizer(max_features=1000)\n",
        "tfidf_matrix = tfidf_vectorizer.fit_transform(data['text_cleaning'].apply(lambda x: ' '.join(x)))"
      ],
      "metadata": {
        "id": "w9UvEgtiGUir"
      },
      "execution_count": 21,
      "outputs": []
    },
    {
      "cell_type": "markdown",
      "source": [
        "# **Langkah 5: Pembagian Data**"
      ],
      "metadata": {
        "id": "-bo3KiZTH3r_"
      }
    },
    {
      "cell_type": "code",
      "source": [
        "X = tfidf_matrix\n",
        "y = data['sentimen']\n",
        "\n",
        "X_train, X_test, y_train, y_test = train_test_split(X, y, test_size=0.2, random_state=42)"
      ],
      "metadata": {
        "id": "okr19VmWGYsb"
      },
      "execution_count": 22,
      "outputs": []
    },
    {
      "cell_type": "markdown",
      "source": [
        "# **Langkah 6: Pelatihan Model**\n",
        "model Machine Learning untuk klasifikasi sentimen, disini saya menggunakan SVM"
      ],
      "metadata": {
        "id": "Ofe-VIceH4e9"
      }
    },
    {
      "cell_type": "code",
      "source": [
        "# Inisialisasi dan pelatihan model\n",
        "svm_classifier = SVC(kernel='linear')\n",
        "svm_classifier.fit(X_train, y_train)\n",
        "\n",
        "# Memprediksi sentimen pada data pengujian\n",
        "y_pred = svm_classifier.predict(X_test)\n"
      ],
      "metadata": {
        "id": "W4g9LkfxGdoj"
      },
      "execution_count": 23,
      "outputs": []
    },
    {
      "cell_type": "markdown",
      "source": [
        "# **Langkah 7: Evaluasi Model**\n",
        "Evaluasi model menggunakan metrik seperti akurasi, presisi, dan recall\n"
      ],
      "metadata": {
        "id": "dUiBlQrXH5P_"
      }
    },
    {
      "cell_type": "code",
      "source": [
        "# Akurasi\n",
        "accuracy = accuracy_score(y_test, y_pred)\n",
        "print(f'Akurasi: {accuracy:.2f}')\n",
        "\n",
        "# Laporan klasifikasi\n",
        "print(classification_report(y_test, y_pred))\n"
      ],
      "metadata": {
        "colab": {
          "base_uri": "https://localhost:8080/"
        },
        "id": "Z9xgAyrHHnwg",
        "outputId": "850819e1-dc19-4b57-f7f6-7433d3135418"
      },
      "execution_count": 24,
      "outputs": [
        {
          "output_type": "stream",
          "name": "stdout",
          "text": [
            "Akurasi: 0.77\n",
            "              precision    recall  f1-score   support\n",
            "\n",
            "     negatif       0.78      0.91      0.84       176\n",
            "      netral       1.00      0.06      0.12        31\n",
            "     positif       0.73      0.74      0.74        97\n",
            "\n",
            "    accuracy                           0.77       304\n",
            "   macro avg       0.84      0.57      0.57       304\n",
            "weighted avg       0.79      0.77      0.74       304\n",
            "\n"
          ]
        }
      ]
    },
    {
      "cell_type": "markdown",
      "source": [
        "# **Kesimpulan**\n",
        "Berdasarkan hasil visualisasi dan evaluasi model berikut adalah simpulan yang dapat diambil:\n",
        "\n",
        "* **Melihat Visualisasi Sentimen**:\n",
        "Sentimen negatif memiliki frekuensi tertinggi dengan lebih dari 850 entri.\n",
        "Sentimen positif memiliki frekuensi sekitar 500 entri.\n",
        "Sentimen netral memiliki frekuensi yang paling rendah, dengan hanya sekitar 100 entri.\n",
        "Ini menunjukkan bahwa dataset memiliki distribusi sentimen yang tidak seimbang, dengan jumlah entri negatif yang jauh lebih banyak daripada positif dan netral.\n",
        "\n",
        "* Evaluasi Model:\n",
        "Akurasi model adalah sekitar 0.77, yang berarti model dapat mengklasifikasikan sekitar 77% dari data dengan benar secara keseluruhan.\n",
        "Detail kinerja model untuk setiap sentimen:\n",
        "\n",
        "* 1. Untuk sentimen negatif, model memiliki presisi sekitar 0.78, recall sekitar 0.91, dan f1-score sekitar 0.84. Ini menunjukkan bahwa model baik dalam mengidentifikasi sentimen negatif dan memiliki tingkat recall yang baik untuk sentimen ini.\n",
        "\n",
        "* 2. Untuk sentimen netral, model memiliki presisi sekitar 1.00, recall yang sangat rendah (0.06), dan f1-score yang rendah (0.12). Recall yang rendah menunjukkan bahwa model hampir tidak dapat mengidentifikasi sentimen netral dengan baik.\n",
        "* 3. Untuk sentimen positif, model memiliki presisi sekitar 0.73, recall sekitar 0.74, dan f1-score sekitar 0.74. Model memiliki kinerja yang cukup baik dalam mengidentifikasi sentimen positif, tetapi tidak sebaik dalam mengidentifikasi sentimen negatif.\n",
        "\n",
        "Dengan demikian, model ini tampaknya memiliki kinerja yang baik dalam mengenali sentimen negatif, sedangkan kinerjanya lebih rendah dalam mengenali sentimen netral. Jadi, selisih antara hasil sentimen negatif dan positif adalah sekitar 0.17. Dengan kata lain, masyarakat cenderung kurang setuju dengan adanya mobil listrik di indonesia berdasarkan data tersebut."
      ],
      "metadata": {
        "id": "31KaniNdSKF3"
      }
    }
  ]
}