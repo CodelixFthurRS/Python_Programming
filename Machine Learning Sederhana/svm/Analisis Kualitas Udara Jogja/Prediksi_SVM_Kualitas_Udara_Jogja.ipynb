{
  "nbformat": 4,
  "nbformat_minor": 0,
  "metadata": {
    "colab": {
      "provenance": []
    },
    "kernelspec": {
      "name": "python3",
      "display_name": "Python 3"
    },
    "language_info": {
      "name": "python"
    }
  },
  "cells": [
    {
      "cell_type": "code",
      "execution_count": 1,
      "metadata": {
        "id": "z72Jt0W110HP"
      },
      "outputs": [],
      "source": [
        "import pandas as pd\n",
        "from sklearn.model_selection import train_test_split\n",
        "from sklearn.svm import SVC\n",
        "from sklearn.metrics import accuracy_score, classification_report, confusion_matrix"
      ]
    },
    {
      "cell_type": "code",
      "source": [
        "# Membaca dataset\n",
        "data = pd.read_csv('data_kualitas_udara_jogja.csv')"
      ],
      "metadata": {
        "id": "QyoZRCVe2N-U"
      },
      "execution_count": 3,
      "outputs": []
    },
    {
      "cell_type": "code",
      "source": [
        "# Memisahkan fitur (features) dan label (target)\n",
        "X = data[['PM10', 'SO2', 'CO', 'O3', 'NO2']]\n",
        "y = data['Category']"
      ],
      "metadata": {
        "id": "BXyubM8Q2cya"
      },
      "execution_count": 4,
      "outputs": []
    },
    {
      "cell_type": "code",
      "source": [
        "# Memisahkan data menjadi data latih dan data uji\n",
        "X_train, X_test, y_train, y_test = train_test_split(X, y, test_size=0.2, random_state=42)\n",
        "\n",
        "# Inisialisasi model Support Vector Machine (SVM)\n",
        "svm_model = SVC(kernel='linear', random_state=42)\n",
        "\n",
        "# Melatih model dengan data latih\n",
        "svm_model.fit(X_train, y_train)\n",
        "\n",
        "# Melakukan prediksi dengan data uji\n",
        "y_pred = svm_model.predict(X_test)\n",
        "\n",
        "# Mengukur kinerja model\n",
        "accuracy = accuracy_score(y_test, y_pred)\n",
        "conf_matrix = confusion_matrix(y_test, y_pred)\n",
        "class_report = classification_report(y_test, y_pred)\n",
        "\n",
        "print(\"Akurasi:\", accuracy)\n",
        "print(\"\\nConfusion Matrix:\\n\", conf_matrix)\n",
        "print(\"\\nClassification Report:\\n\", class_report)"
      ],
      "metadata": {
        "colab": {
          "base_uri": "https://localhost:8080/"
        },
        "id": "UphUBFzj2UkE",
        "outputId": "dff65d9e-6d40-4c4e-f6ad-f8b95cc467db"
      },
      "execution_count": 6,
      "outputs": [
        {
          "output_type": "stream",
          "name": "stdout",
          "text": [
            "Akurasi: 0.9459459459459459\n",
            "\n",
            "Confusion Matrix:\n",
            " [[50  4  0]\n",
            " [ 0 19  0]\n",
            " [ 0  0  1]]\n",
            "\n",
            "Classification Report:\n",
            "               precision    recall  f1-score   support\n",
            "\n",
            "        Good       1.00      0.93      0.96        54\n",
            "    Moderate       0.83      1.00      0.90        19\n",
            "   Unhealthy       1.00      1.00      1.00         1\n",
            "\n",
            "    accuracy                           0.95        74\n",
            "   macro avg       0.94      0.98      0.96        74\n",
            "weighted avg       0.96      0.95      0.95        74\n",
            "\n"
          ]
        }
      ]
    },
    {
      "cell_type": "code",
      "source": [
        "# Prediksi kualitas air untuk data baru\n",
        "new_data = pd.DataFrame({'PM10': [15], 'SO2': [2], 'CO': [60], 'O3': [25], 'NO2': [0]})\n",
        "predicted_category = svm_model.predict(new_data)\n",
        "print(\"\\nPrediksi Kualitas Udara untuk Data Baru:\", predicted_category[0])"
      ],
      "metadata": {
        "colab": {
          "base_uri": "https://localhost:8080/"
        },
        "id": "zkSZr2BC2nr2",
        "outputId": "28e7b9d3-8b75-4815-f4f8-9a6a16e729b0"
      },
      "execution_count": 7,
      "outputs": [
        {
          "output_type": "stream",
          "name": "stdout",
          "text": [
            "\n",
            "Prediksi Kualitas Udara untuk Data Baru: Moderate\n"
          ]
        }
      ]
    }
  ]
}
